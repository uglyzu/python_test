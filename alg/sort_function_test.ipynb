{
 "cells": [
  {
   "cell_type": "code",
   "execution_count": 2,
   "metadata": {},
   "outputs": [
    {
     "data": {
      "text/plain": [
       "<matplotlib.axes._subplots.AxesSubplot at 0x9838c18>"
      ]
     },
     "execution_count": 2,
     "metadata": {},
     "output_type": "execute_result"
    },
    {
     "data": {
      "image/png": "[encoded data removed]",
      "text/plain": [
       "<matplotlib.figure.Figure at 0x98385f8>"
      ]
     },
     "metadata": {},
     "output_type": "display_data"
    }
   ],
   "source": [
    "from pandas import Series, DataFrame\n",
    "import pandas as pd\n",
    "\n",
    "a = [8, 2, 4, 6, 1, 9, 0, 3, 5, 7]\n",
    "s = Series(a)\n",
    "s.values\n",
    "s.plot(kind=\"bar\",title=\"sort\",legend=False)\n"
   ]
  },
  {
   "cell_type": "markdown",
   "metadata": {},
   "source": [
    "1.插入排序\n",
    "\n",
    "插入排序的基本操作就是将一个数据插入到已经排好序的有序数据中，从而得到一个新的、个数加一的有序数据，算法适用于少量数据的排序，时间复杂度为O(n^2)。是稳定的排序方法。插入算法把要排序的数组分成两部分：第一部分包含了这个数组的所有元素，但将最后一个元素除外（让数组多一个空间才有插入的位置），而第二部分就只包含这一个元素（即待插入元素）。在第一部分排序完成后，再将这个最后元素插入到已排好序的第一部分中。"
   ]
  },
  {
   "cell_type": "code",
   "execution_count": 12,
   "metadata": {},
   "outputs": [
    {
     "name": "stdout",
     "output_type": "stream",
     "text": [
      "[ 2 15  4  6  1  9  0  3  5  7]\n",
      "[ 2  4 15  6  1  9  0  3  5  7]\n",
      "[ 2  4  6 15  1  9  0  3  5  7]\n",
      "[ 2  4  6  1 15  9  0  3  5  7]\n",
      "[ 2  4  1  6 15  9  0  3  5  7]\n",
      "[ 2  1  4  6 15  9  0  3  5  7]\n",
      "[ 1  2  4  6 15  9  0  3  5  7]\n",
      "[ 1  2  4  6  9 15  0  3  5  7]\n",
      "[ 1  2  4  6  9  0 15  3  5  7]\n",
      "[ 1  2  4  6  0  9 15  3  5  7]\n",
      "[ 1  2  4  0  6  9 15  3  5  7]\n",
      "[ 1  2  0  4  6  9 15  3  5  7]\n",
      "[ 1  0  2  4  6  9 15  3  5  7]\n",
      "[ 0  1  2  4  6  9 15  3  5  7]\n",
      "[ 0  1  2  4  6  9  3 15  5  7]\n",
      "[ 0  1  2  4  6  3  9 15  5  7]\n",
      "[ 0  1  2  4  3  6  9 15  5  7]\n",
      "[ 0  1  2  3  4  6  9 15  5  7]\n",
      "[ 0  1  2  3  4  6  9  5 15  7]\n",
      "[ 0  1  2  3  4  6  5  9 15  7]\n",
      "[ 0  1  2  3  4  5  6  9 15  7]\n",
      "[ 0  1  2  3  4  5  6  9  7 15]\n",
      "[ 0  1  2  3  4  5  6  7  9 15]\n"
     ]
    },
    {
     "data": {
      "text/plain": [
       "[0, 1, 2, 3, 4, 5, 6, 7, 9, 15]"
      ]
     },
     "execution_count": 12,
     "metadata": {},
     "output_type": "execute_result"
    },
    {
     "data": {
      "image/png": "[encoded data removed]",
      "text/plain": [
       "<matplotlib.figure.Figure at 0x995e860>"
      ]
     },
     "metadata": {},
     "output_type": "display_data"
    }
   ],
   "source": [
    "import time\n",
    "a = [15, 2, 4, 6, 1, 9, 0, 3, 5, 7]\n",
    "def insert_sort(lists):\n",
    "    # 插入排序\n",
    "    count = len(lists)\n",
    "    counter = 0\n",
    "    for i in range(1, count):\n",
    "        key = lists[i]\n",
    "        j = i - 1\n",
    "        while j >= 0:\n",
    "            if lists[j] > key:\n",
    "                lists[j + 1] = lists[j]\n",
    "                lists[j] = key\n",
    "                s = Series(lists)\n",
    "                print(s.values)\n",
    "                s_plot = s.plot(kind=\"bar\",title=\"sort\",legend=False)\n",
    "                fig = s_plot.get_figure()\n",
    "                fig.savefig(\"insert_sort/{0}.png\".format(counter))\n",
    "                counter += 1\n",
    "                #time.sleep(1)\n",
    "            j -= 1\n",
    "    return lists\n",
    "\n",
    "insert_sort(a)"
   ]
  },
  {
   "cell_type": "markdown",
   "metadata": {},
   "source": [
    "2.希尔排序\n",
    "\n",
    "希尔排序(Shell Sort)是插入排序的一种。也称缩小增量排序，是直接插入排序算法的一种更高效的改进版本。希尔排序是非稳定排序算法。该方法因DL．Shell于1959年提出而得名。 希尔排序是把记录按下标的一定增量分组，对每组使用直接插入排序算法排序；随着增量逐渐减少，每组包含的关键词越来越多，当增量减至1时，整个文件恰被分成一组，算法便终止。"
   ]
  },
  {
   "cell_type": "code",
   "execution_count": 2,
   "metadata": {},
   "outputs": [],
   "source": [
    "def shell_sort(lists):\n",
    "    # 希尔排序\n",
    "    count = len(lists)\n",
    "    step = 2\n",
    "    group = count / step\n",
    "    while group > 0:\n",
    "        for i in range(0, group):\n",
    "            j = i + group\n",
    "            while j < count:\n",
    "                k = j - group\n",
    "                key = lists[j]\n",
    "                while k >= 0:\n",
    "                    if lists[k] > key:\n",
    "                        lists[k + group] = lists[k]\n",
    "                        lists[k] = key\n",
    "                    k -= group\n",
    "                j += group\n",
    "        group /= step\n",
    "    return lists"
   ]
  },
  {
   "cell_type": "markdown",
   "metadata": {},
   "source": [
    "3.冒泡排序\n",
    "\n",
    "它重复地走访过要排序的数列，一次比较两个元素，如果他们的顺序错误就把他们交换过来。走访数列的工作是重复地进行直到没有再需要交换，也就是说该数列已经排序完成。"
   ]
  },
  {
   "cell_type": "code",
   "execution_count": 3,
   "metadata": {},
   "outputs": [],
   "source": [
    "def bubble_sort(lists):\n",
    "    # 冒泡排序\n",
    "    count = len(lists)\n",
    "    for i in range(0, count):\n",
    "        for j in range(i + 1, count):\n",
    "            if lists[i] > lists[j]:\n",
    "                lists[i], lists[j] = lists[j], lists[i]\n",
    "    return lists"
   ]
  },
  {
   "cell_type": "markdown",
   "metadata": {},
   "source": [
    "4.快速排序\n",
    "\n",
    "通过一趟排序将要排序的数据分割成独立的两部分，其中一部分的所有数据都比另外一部分的所有数据都要小，然后再按此方法对这两部分数据分别进行快速排序，整个排序过程可以递归进行，以此达到整个数据变成有序序列。"
   ]
  },
  {
   "cell_type": "code",
   "execution_count": 5,
   "metadata": {},
   "outputs": [],
   "source": [
    "def quick_sort(lists, left, right):\n",
    "    # 快速排序\n",
    "    if left >= right:\n",
    "        return lists\n",
    "    key = lists[left]\n",
    "    low = left\n",
    "    high = right\n",
    "    while left < right:\n",
    "        while left < right and lists[right] >= key:\n",
    "            right -= 1\n",
    "        lists[left] = lists[right]\n",
    "        while left < right and lists[left] <= key:\n",
    "            left += 1\n",
    "        lists[right] = lists[left]\n",
    "    lists[right] = key\n",
    "    quick_sort(lists, low, left - 1)\n",
    "    quick_sort(lists, left + 1, high)\n",
    "    return lists"
   ]
  },
  {
   "cell_type": "markdown",
   "metadata": {},
   "source": [
    "5.直接选择排序\n",
    "\n",
    "基本思想：第1趟，在待排序记录r1 ~ r[n]中选出最小的记录，将它与r1交换；第2趟，在待排序记录r2 ~ r[n]中选出最小的记录，将它与r2交换；以此类推，第i趟在待排序记录r[i] ~ r[n]中选出最小的记录，将它与r[i]交换，使有序序列不断增长直到全部排序完毕。"
   ]
  },
  {
   "cell_type": "code",
   "execution_count": 6,
   "metadata": {},
   "outputs": [],
   "source": [
    "def select_sort(lists):\n",
    "    # 选择排序\n",
    "    count = len(lists)\n",
    "    for i in range(0, count):\n",
    "        min = i\n",
    "        for j in range(i + 1, count):\n",
    "            if lists[min] > lists[j]:\n",
    "                min = j\n",
    "        lists[min], lists[i] = lists[i], lists[min]\n",
    "    return lists"
   ]
  },
  {
   "cell_type": "markdown",
   "metadata": {},
   "source": [
    "6、堆排序\n",
    "\n",
    "堆排序(Heapsort)是指利用堆积树（堆）这种数据结构所设计的一种排序算法，它是选择排序的一种。可以利用数组的特点快速定位指定索引的元素。堆分为大根堆和小根堆，是完全二叉树。大根堆的要求是每个节点的值都不大于其父节点的值，即A[PARENT[i]] >= A[i]。在数组的非降序排序中，需要使用的就是大根堆，因为根据大根堆的要求可知，最大的值一定在堆顶。"
   ]
  },
  {
   "cell_type": "code",
   "execution_count": 7,
   "metadata": {},
   "outputs": [],
   "source": [
    "def adjust_heap(lists, i, size):\n",
    "    lchild = 2 * i + 1\n",
    "    rchild = 2 * i + 2\n",
    "    max = i\n",
    "    if i < size / 2:\n",
    "        if lchild < size and lists[lchild] > lists[max]:\n",
    "            max = lchild\n",
    "        if rchild < size and lists[rchild] > lists[max]:\n",
    "            max = rchild\n",
    "        if max != i:\n",
    "            lists[max], lists[i] = lists[i], lists[max]\n",
    "            adjust_heap(lists, max, size)\n",
    "\n",
    "def build_heap(lists, size):\n",
    "    for i in range(0, (size/2))[::-1]:\n",
    "        adjust_heap(lists, i, size)\n",
    "\n",
    "def heap_sort(lists):\n",
    "    size = len(lists)\n",
    "    build_heap(lists, size)\n",
    "    for i in range(0, size)[::-1]:\n",
    "        lists[0], lists[i] = lists[i], lists[0]\n",
    "        adjust_heap(lists, 0, i)"
   ]
  },
  {
   "cell_type": "markdown",
   "metadata": {},
   "source": [
    "7、归并排序\n",
    "\n",
    "归并排序是建立在归并操作上的一种有效的排序算法,该算法是采用分治法（Divide and Conquer）的一个非常典型的应用。将已有序的子序列合并，得到完全有序的序列；即先使每个子序列有序，再使子序列段间有序。若将两个有序表合并成一个有序表，称为二路归并。\n",
    "\n",
    "归并过程为：比较a[i]和a[j]的大小，若a[i]≤a[j]，则将第一个有序表中的元素a[i]复制到r[k]中，并令i和k分别加上1；否则将第二个有序表中的元素a[j]复制到r[k]中，并令j和k分别加上1，如此循环下去，直到其中一个有序表取完，然后再将另一个有序表中剩余的元素复制到r中从下标k到下标t的单元。归并排序的算法我们通常用递归实现，先把待排序区间[s,t]以中点二分，接着把左边子区间排序，再把右边子区间排序，最后把左区间和右区间用一次归并操作合并成有序的区间[s,t]。"
   ]
  },
  {
   "cell_type": "code",
   "execution_count": 8,
   "metadata": {},
   "outputs": [],
   "source": [
    "def merge(left, right):\n",
    "    i, j = 0, 0\n",
    "    result = []\n",
    "    while i < len(left) and j < len(right):\n",
    "        if left[i] <= right[j]:\n",
    "            result.append(left[i])\n",
    "            i += 1\n",
    "        else:\n",
    "            result.append(right[j])\n",
    "            j += 1\n",
    "    result += left[i:]\n",
    "    result += right[j:]\n",
    "    return result\n",
    "\n",
    "def merge_sort(lists):\n",
    "    # 归并排序\n",
    "    if len(lists) <= 1:\n",
    "        return lists\n",
    "    num = len(lists) / 2\n",
    "    left = merge_sort(lists[:num])\n",
    "    right = merge_sort(lists[num:])\n",
    "    return merge(left, right)"
   ]
  },
  {
   "cell_type": "markdown",
   "metadata": {},
   "source": [
    "8、基数排序\n",
    "\n",
    "基数排序（radix sort）属于“分配式排序”（distribution sort），又称“桶子法”（bucket sort）或bin sort，顾名思义，它是透过键值的部份资讯，将要排序的元素分配至某些“桶”中，藉以达到排序的作用，基数排序法是属于稳定性的排序，其时间复杂度为O (nlog(r)m)，其中r为所采取的基数，而m为堆数，在某些时候，基数排序法的效率高于其它的稳定性排序法。"
   ]
  },
  {
   "cell_type": "code",
   "execution_count": null,
   "metadata": {},
   "outputs": [],
   "source": [
    "import math\n",
    "def radix_sort(lists, radix=10):\n",
    "    k = int(math.ceil(math.log(max(lists), radix)))\n",
    "    bucket = [[] for i in range(radix)]\n",
    "    for i in range(1, k+1):\n",
    "        for j in lists:\n",
    "            bucket[j/(radix**(i-1)) % (radix**i)].append(j)\n",
    "        del lists[:]\n",
    "        for z in bucket:\n",
    "            lists += z\n",
    "            del z[:]\n",
    "    return lists"
   ]
  }
 ],
 "metadata": {
  "kernelspec": {
   "display_name": "Python 3",
   "language": "python",
   "name": "python3"
  },
  "language_info": {
   "codemirror_mode": {
    "name": "ipython",
    "version": 3
   },
   "file_extension": ".py",
   "mimetype": "text/x-python",
   "name": "python",
   "nbconvert_exporter": "python",
   "pygments_lexer": "ipython3",
   "version": "3.6.4"
  }
 },
 "nbformat": 4,
 "nbformat_minor": 2
}
