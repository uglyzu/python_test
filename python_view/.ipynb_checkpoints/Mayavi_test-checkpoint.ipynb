{
 "cells": [
  {
   "cell_type": "code",
   "execution_count": 3,
   "metadata": {},
   "outputs": [
    {
     "ename": "ModuleNotFoundError",
     "evalue": "No module named 'mayavi'",
     "output_type": "error",
     "traceback": [
      "\u001b[1;31m---------------------------------------------------------------------------\u001b[0m",
      "\u001b[1;31mModuleNotFoundError\u001b[0m                       Traceback (most recent call last)",
      "\u001b[1;32m<ipython-input-3-02b5bb660b7c>\u001b[0m in \u001b[0;36m<module>\u001b[1;34m()\u001b[0m\n\u001b[0;32m      1\u001b[0m \u001b[1;32mimport\u001b[0m \u001b[0mnumpy\u001b[0m \u001b[1;32mas\u001b[0m \u001b[0mnp\u001b[0m\u001b[1;33m\u001b[0m\u001b[0m\n\u001b[1;32m----> 2\u001b[1;33m \u001b[1;32mimport\u001b[0m \u001b[0mmayavi\u001b[0m\u001b[1;33m.\u001b[0m\u001b[0mmlab\u001b[0m \u001b[1;32mas\u001b[0m \u001b[0mmlab\u001b[0m\u001b[1;33m\u001b[0m\u001b[0m\n\u001b[0m\u001b[0;32m      3\u001b[0m \u001b[1;32mimport\u001b[0m  \u001b[0mmoviepy\u001b[0m\u001b[1;33m.\u001b[0m\u001b[0meditor\u001b[0m \u001b[1;32mas\u001b[0m \u001b[0mmpy\u001b[0m\u001b[1;33m\u001b[0m\u001b[0m\n\u001b[0;32m      4\u001b[0m \u001b[1;33m\u001b[0m\u001b[0m\n\u001b[0;32m      5\u001b[0m \u001b[0mduration\u001b[0m\u001b[1;33m=\u001b[0m \u001b[1;36m2\u001b[0m \u001b[1;31m# duration of the animation in seconds (it will loop)\u001b[0m\u001b[1;33m\u001b[0m\u001b[0m\n",
      "\u001b[1;31mModuleNotFoundError\u001b[0m: No module named 'mayavi'"
     ]
    }
   ],
   "source": [
    "import numpy as np\n",
    "import mayavi.mlab as mlab\n",
    "import  moviepy.editor as mpy\n",
    "\n",
    "duration= 2 # duration of the animation in seconds (it will loop)\n",
    "\n",
    "# MAKE A FIGURE WITH MAYAVI\n",
    "\n",
    "fig_myv = mlab.figure(size=(220,220), bgcolor=(1,1,1))\n",
    "X, Y = np.linspace(-2,2,200), np.linspace(-2,2,200)\n",
    "XX, YY = np.meshgrid(X,Y)\n",
    "ZZ = lambda d: np.sinc(XX**2+YY**2)+np.sin(XX+d)\n",
    "\n",
    "# ANIMATE THE FIGURE WITH MOVIEPY, WRITE AN ANIMATED GIF\n",
    "\n",
    "def make_frame(t):\n",
    "    mlab.clf() # clear the figure (to reset the colors)\n",
    "    mlab.mesh(YY,XX,ZZ(2*np.pi*t/duration), figure=fig_myv)\n",
    "    return mlab.screenshot(antialiased=True)\n",
    "\n",
    "animation = mpy.VideoClip(make_frame, duration=duration)\n",
    "animation.write_gif(\"sinc.gif\", fps=20)"
   ]
  },
  {
   "cell_type": "code",
   "execution_count": 2,
   "metadata": {},
   "outputs": [
    {
     "ename": "ModuleNotFoundError",
     "evalue": "No module named 'mayavi'",
     "output_type": "error",
     "traceback": [
      "\u001b[1;31m---------------------------------------------------------------------------\u001b[0m",
      "\u001b[1;31mModuleNotFoundError\u001b[0m                       Traceback (most recent call last)",
      "\u001b[1;32m<ipython-input-2-28e7f340398c>\u001b[0m in \u001b[0;36m<module>\u001b[1;34m()\u001b[0m\n\u001b[0;32m      1\u001b[0m \u001b[1;32mimport\u001b[0m \u001b[0mnumpy\u001b[0m \u001b[1;32mas\u001b[0m \u001b[0mnp\u001b[0m\u001b[1;33m\u001b[0m\u001b[0m\n\u001b[1;32m----> 2\u001b[1;33m \u001b[1;32mimport\u001b[0m \u001b[0mmayavi\u001b[0m\u001b[1;33m.\u001b[0m\u001b[0mmlab\u001b[0m \u001b[1;32mas\u001b[0m \u001b[0mmlab\u001b[0m\u001b[1;33m\u001b[0m\u001b[0m\n\u001b[0m\u001b[0;32m      3\u001b[0m \u001b[1;32mimport\u001b[0m  \u001b[0mmoviepy\u001b[0m\u001b[1;33m.\u001b[0m\u001b[0meditor\u001b[0m \u001b[1;32mas\u001b[0m \u001b[0mmpy\u001b[0m\u001b[1;33m\u001b[0m\u001b[0m\n\u001b[0;32m      4\u001b[0m \u001b[1;33m\u001b[0m\u001b[0m\n\u001b[0;32m      5\u001b[0m \u001b[0mduration\u001b[0m \u001b[1;33m=\u001b[0m \u001b[1;36m2\u001b[0m \u001b[1;31m# duration of the animation in seconds (it will loop)\u001b[0m\u001b[1;33m\u001b[0m\u001b[0m\n",
      "\u001b[1;31mModuleNotFoundError\u001b[0m: No module named 'mayavi'"
     ]
    }
   ],
   "source": [
    "import numpy as np\n",
    "import mayavi.mlab as mlab\n",
    "import  moviepy.editor as mpy\n",
    "\n",
    "duration = 2 # duration of the animation in seconds (it will loop)\n",
    "\n",
    "# MAKE A FIGURE WITH MAYAVI\n",
    "\n",
    "fig = mlab.figure(size=(500, 500), bgcolor=(1,1,1))\n",
    "\n",
    "u = np.linspace(0,2*np.pi,100)\n",
    "xx,yy,zz = np.cos(u), np.sin(3*u), np.sin(u) # Points\n",
    "l = mlab.plot3d(xx,yy,zz, representation=\"wireframe\", tube_sides=5,\n",
    "                line_width=.5, tube_radius=0.2, figure=fig)\n",
    "\n",
    "# ANIMATE THE FIGURE WITH MOVIEPY, WRITE AN ANIMATED GIF\n",
    "\n",
    "def make_frame(t):\n",
    "    \"\"\" Generates and returns the frame for time t. \"\"\"\n",
    "    y = np.sin(3*u)*(0.2+0.5*np.cos(2*np.pi*t/duration))\n",
    "    l.mlab_source.set(y = y) # change y-coordinates of the mesh\n",
    "    mlab.view(azimuth= 360*t/duration, distance=9) # camera angle\n",
    "    return mlab.screenshot(antialiased=True) # return a RGB image\n",
    "\n",
    "animation = mpy.VideoClip(make_frame, duration=duration).resize(0.5)\n",
    "# Video generation takes 10 seconds, GIF generation takes 25s\n",
    "animation.write_videofile(\"wireframe.mp4\", fps=20)\n",
    "animation.write_gif(\"wireframe.gif\", fps=20)"
   ]
  },
  {
   "cell_type": "code",
   "execution_count": null,
   "metadata": {},
   "outputs": [],
   "source": []
  }
 ],
 "metadata": {
  "kernelspec": {
   "display_name": "Python 3",
   "language": "python",
   "name": "python3"
  },
  "language_info": {
   "codemirror_mode": {
    "name": "ipython",
    "version": 3
   },
   "file_extension": ".py",
   "mimetype": "text/x-python",
   "name": "python",
   "nbconvert_exporter": "python",
   "pygments_lexer": "ipython3",
   "version": "3.6.4"
  }
 },
 "nbformat": 4,
 "nbformat_minor": 2
}
