{
 "cells": [
  {
   "cell_type": "code",
   "execution_count": 1,
   "metadata": {},
   "outputs": [
    {
     "name": "stdout",
     "output_type": "stream",
     "text": [
      "117649\n"
     ]
    }
   ],
   "source": [
    "x = 7 ** 6\n",
    "print(x)"
   ]
  },
  {
   "cell_type": "code",
   "execution_count": 10,
   "metadata": {},
   "outputs": [
    {
     "name": "stdout",
     "output_type": "stream",
     "text": [
      "<class 'int'>\n",
      "<class 'float'>\n",
      "<class 'float'>\n",
      "<class 'float'>\n",
      "<class 'int'>\n"
     ]
    }
   ],
   "source": [
    "a = 10 # int\n",
    "b = 3.14 # fLoat\n",
    "c = 3 #int\n",
    "d = a ** 2 # square of a\n",
    "print (type (d)) # return the type of d\n",
    "print (type (d/10)) # return the type of d/l0\n",
    "print (type (a/b)) # return the type of a/b\n",
    "print (type (a/c)) # return the type of a/c\n",
    "print (type (a*d)) # return the type of bd"
   ]
  },
  {
   "cell_type": "code",
   "execution_count": 11,
   "metadata": {},
   "outputs": [
    {
     "data": {
      "text/plain": [
       "0.30000000000000004"
      ]
     },
     "execution_count": 11,
     "metadata": {},
     "output_type": "execute_result"
    }
   ],
   "source": [
    "0.1 + 0.2"
   ]
  },
  {
   "cell_type": "code",
   "execution_count": 18,
   "metadata": {},
   "outputs": [
    {
     "name": "stdout",
     "output_type": "stream",
     "text": [
      "3.14\n",
      "9.99\n",
      "9.9949999999999992184029906638897955417633056640625\n"
     ]
    },
    {
     "data": {
      "text/plain": [
       "(9.995,)"
      ]
     },
     "execution_count": 18,
     "metadata": {},
     "output_type": "execute_result"
    }
   ],
   "source": [
    "import  decimal  \n",
    "# import  the  libray  \"decimal\"    \n",
    "# display  2  decimal  precision\n",
    "print (round (3.1415 ,  2))   #  result  3. 14\n",
    "print (round (9.995 ,   2))   #  result  9. 99\n",
    "\n",
    "#call   function   \"Decimal \"  from lib \"decimal\"\n",
    "print (decimal.Decimal (9.995))\n",
    "#The last \"print\" returns\n",
    "9.9949999999999992184029906638897955417633056640625,\n",
    "#which is exactly how 9.995 is stored in the hardware."
   ]
  },
  {
   "cell_type": "markdown",
   "metadata": {},
   "source": [
    "字符串的一些功能"
   ]
  },
  {
   "cell_type": "code",
   "execution_count": 19,
   "metadata": {},
   "outputs": [
    {
     "name": "stdout",
     "output_type": "stream",
     "text": [
      "He is a string. who are you?\n",
      "['He', 'is', 'a', 'string.', 'Who', 'are', 'you?']\n",
      "3\n",
      "11\n",
      "-1\n",
      "He i\n",
      "He|is|a|string.|Who|are|you?\n",
      "www.google.com\n"
     ]
    }
   ],
   "source": [
    "t = 'He is a string. Who are you?'\n",
    "print(t.capitalize()) # Cap first letter\n",
    "print(t.split()) # split by words\n",
    "print(t.find('i')) # return index of 'i'\n",
    "print(t.find('in')) # index of 'i' in 'in'\n",
    "print(t.find('Python')) # find sth not in\n",
    "print(t[0:4]) # returu from index 0 to 3\n",
    "print(t.replace(' ','|')) # replace by '|'\n",
    "w = 'http://www.google.com'\n",
    "print(w.strip('http://')) #delete sth"
   ]
  },
  {
   "cell_type": "code",
   "execution_count": 22,
   "metadata": {},
   "outputs": [
    {
     "name": "stdout",
     "output_type": "stream",
     "text": [
      "<class 'list'>\n",
      "[1, 2, 3.14, 'data', [4, 3]]\n",
      "[1, 2, 3.14, 'data', [4, 3], 'delta', 5, 6]\n",
      "[1, 2, 3.14, 'beta', 'data', [4, 3], 'delta', 5, 6]\n",
      "[1, 2, 3.14, 'beta', [4, 3], 'delta', 5, 6]\n"
     ]
    }
   ],
   "source": [
    "l = [1, 2, 3.14, 'data'] #list\n",
    "print (type(l))\n",
    "l.append ([4,  3])\n",
    "print(l)\n",
    "l.extend (['delta' ,5 ,6] )   #add  a  list\n",
    "print(l)\n",
    "l.insert(3, 'beta')  #insert  before  index 3\n",
    "print(l)\n",
    "l.remove ('data')   #delete an elementprint(l)\n",
    "print(l)"
   ]
  },
  {
   "cell_type": "code",
   "execution_count": 24,
   "metadata": {},
   "outputs": [
    {
     "name": "stdout",
     "output_type": "stream",
     "text": [
      "[5, 2.3, 4]\n",
      "[1, 2, 3, 4]\n"
     ]
    }
   ],
   "source": [
    "x = [1, 2.3, 4]\n",
    "y = x\n",
    "y[0] = 5\n",
    "print(x)\n",
    "\n",
    "x = [1, 2, 3, 4]\n",
    "z  =  x.copy()\n",
    "z[0] = 5\n",
    "print (x)"
   ]
  },
  {
   "cell_type": "code",
   "execution_count": 1,
   "metadata": {},
   "outputs": [
    {
     "name": "stdout",
     "output_type": "stream",
     "text": [
      "[24, 16, 54]\n",
      "[]\n"
     ]
    }
   ],
   "source": [
    "a = [24, 16, 54]\n",
    "b = []\n",
    "if  a[0]< a[1]  and a[0]< a[2] :\n",
    "    b.append(a[0])\n",
    "    if  a[1]  <  a[2]:\n",
    "        b.append(a[1])\n",
    "        b.append(a[2])\n",
    "    else:                 \n",
    "        b.append(a[2])\n",
    "        b.append(a[1])  \n",
    "print(a)\n",
    "print(b)\n",
    "# This piece of code is not done yet.  \n",
    "# Please  complete  it !!!"
   ]
  },
  {
   "cell_type": "code",
   "execution_count": 4,
   "metadata": {},
   "outputs": [
    {
     "name": "stdout",
     "output_type": "stream",
     "text": [
      "2\n",
      "4\n",
      "5\n",
      "25\n",
      "8\n",
      "64\n",
      "1\n",
      "3\n",
      "6\n",
      "10\n",
      "15\n",
      "21\n",
      "28\n",
      "36\n",
      "45\n",
      "55\n",
      "66\n",
      "78\n",
      "91\n",
      "105\n",
      "120\n",
      "136\n",
      "153\n",
      "171\n",
      "190\n",
      "210\n",
      "231\n",
      "253\n",
      "276\n",
      "300\n",
      "325\n",
      "351\n",
      "378\n",
      "406\n",
      "435\n",
      "465\n",
      "496\n",
      "528\n",
      "561\n",
      "595\n",
      "630\n",
      "666\n",
      "703\n",
      "741\n",
      "780\n",
      "820\n",
      "861\n",
      "903\n",
      "946\n",
      "990\n",
      "1035\n",
      "1081\n",
      "1128\n",
      "1176\n",
      "1225\n",
      "1275\n",
      "1326\n",
      "1378\n",
      "1431\n",
      "1485\n",
      "1540\n",
      "1596\n",
      "1653\n",
      "1711\n",
      "1770\n",
      "1830\n",
      "1891\n",
      "1953\n",
      "2016\n",
      "2080\n",
      "2145\n",
      "2211\n",
      "2278\n",
      "2346\n",
      "2415\n",
      "2485\n",
      "2556\n",
      "2628\n",
      "2701\n",
      "2775\n",
      "2850\n",
      "2926\n",
      "3003\n",
      "3081\n",
      "3160\n",
      "3240\n",
      "3321\n",
      "3403\n",
      "3486\n",
      "3570\n",
      "3655\n",
      "3741\n",
      "3828\n",
      "3916\n",
      "4005\n",
      "4095\n",
      "4186\n",
      "4278\n",
      "4371\n",
      "4465\n",
      "4560\n",
      "4656\n",
      "4753\n",
      "4851\n",
      "4950\n",
      "5050\n"
     ]
    }
   ],
   "source": [
    "# for和range的例子 example  of  for  and  range  \n",
    "# 初始值默认值为default start of range is O     \n",
    "# 步长默认值为default step of range is 1     \n",
    "for i in range(2, 10, 3):         \n",
    "    print(i)         \n",
    "    l= i**2         \n",
    "    print(l)\n",
    "\n",
    "# white to sum   up 1 to 100\n",
    "a = 0\n",
    "sumup = 0\n",
    "while  a < 100 :\n",
    "    a += 1\n",
    "    sumup += a\n",
    "    print (sumup)"
   ]
  },
  {
   "cell_type": "code",
   "execution_count": 7,
   "metadata": {},
   "outputs": [
    {
     "name": "stdout",
     "output_type": "stream",
     "text": [
      "306\n"
     ]
    }
   ],
   "source": [
    "# search the first\n",
    "# be divided by 17\n",
    "for i in range(300, 351):\n",
    "    if i % 17 == 0:\n",
    "        print (i)\n",
    "        break\n",
    "    else :\n",
    "        continue"
   ]
  },
  {
   "cell_type": "code",
   "execution_count": 8,
   "metadata": {},
   "outputs": [
    {
     "name": "stdout",
     "output_type": "stream",
     "text": [
      "0\n",
      "0\n",
      "1\n",
      "2\n",
      "3\n",
      "4\n",
      "1\n",
      "0\n",
      "1\n",
      "2\n",
      "3\n",
      "4\n",
      "2\n",
      "0\n",
      "1\n",
      "2\n",
      "3\n",
      "4\n",
      "3\n",
      "0\n",
      "1\n",
      "2\n",
      "3\n",
      "4\n",
      "4\n",
      "0\n",
      "1\n",
      "2\n",
      "3\n",
      "4\n",
      "5\n",
      "0\n",
      "1\n",
      "2\n",
      "3\n",
      "4\n",
      "6\n",
      "0\n",
      "1\n",
      "2\n",
      "3\n",
      "4\n",
      "7\n",
      "0\n",
      "1\n",
      "2\n",
      "3\n",
      "4\n",
      "8\n",
      "0\n",
      "1\n",
      "2\n",
      "3\n",
      "4\n",
      "9\n",
      "0\n",
      "1\n",
      "2\n",
      "3\n",
      "4\n"
     ]
    }
   ],
   "source": [
    "for  i  in range (10):\n",
    "     print (i)     \n",
    "     for j in range (5):\n",
    "         print (j)"
   ]
  },
  {
   "cell_type": "code",
   "execution_count": 9,
   "metadata": {},
   "outputs": [
    {
     "name": "stdout",
     "output_type": "stream",
     "text": [
      "64\n"
     ]
    }
   ],
   "source": [
    "def  MaxOfTwo (x1, x2):\n",
    "     if  x1 >= x2:\n",
    "          return x1       \n",
    "     else:\n",
    "          return x2\n",
    "\n",
    "a = l\n",
    "b = 2\n",
    "c = MaxOfTwo(a, b)\n",
    "print(c)"
   ]
  },
  {
   "cell_type": "code",
   "execution_count": 10,
   "metadata": {},
   "outputs": [],
   "source": [
    "file = open('newfile.txt', 'w')\n",
    "file.write('I am created for the course. \\n')\n",
    "file.write('How about you? ')\n",
    "file.write('How is your exam?')\n",
    "file.close()"
   ]
  },
  {
   "cell_type": "code",
   "execution_count": 13,
   "metadata": {},
   "outputs": [
    {
     "name": "stdout",
     "output_type": "stream",
     "text": [
      "1 I am created for the course. \n",
      "How about you? How is your exam?\n",
      "2 I am creat\n",
      "3 ed for the course. \n",
      "\n",
      "4 ['How about you? How is your exam?']\n"
     ]
    }
   ],
   "source": [
    "file = open('newfile.txt', 'r')\n",
    "#show whole efile\n",
    "print('1', file.read())\n",
    "file.close()\n",
    "file = open('newfile.txt', 'r')\n",
    "#show first ten characterrs\n",
    "print('2', file.read(10))\n",
    "#view by line\n",
    "print('3', file.readline())\n",
    "#view all by line\n",
    "print('4', file.readlines())\n",
    "file.close()"
   ]
  },
  {
   "cell_type": "code",
   "execution_count": 14,
   "metadata": {},
   "outputs": [
    {
     "name": "stdout",
     "output_type": "stream",
     "text": [
      "I am created for the course. \n",
      "\n",
      "How about you? How is your exam?\n"
     ]
    }
   ],
   "source": [
    "file = open('newfile.txt', 'r')\n",
    "for  line  in  file:\n",
    "     print (line)\n",
    "file.close()"
   ]
  },
  {
   "cell_type": "code",
   "execution_count": 18,
   "metadata": {},
   "outputs": [],
   "source": [
    "file = open('newfile.txt', 'a')\n",
    "file.write('\\nI am back again. \\n')\n",
    "file.write('Do  you miss me?\\n')\n",
    "file.close()"
   ]
  },
  {
   "cell_type": "markdown",
   "metadata": {},
   "source": [
    "练习1"
   ]
  },
  {
   "cell_type": "code",
   "execution_count": 19,
   "metadata": {},
   "outputs": [],
   "source": [
    "a = [8, 2, 4, 6, 1, 9, 0, 3, 5, 7]\n",
    "\n",
    "def _bubble_sort(list):\n",
    "    count = len(list)\n",
    "    for i in range(0, count):\n",
    "        for j in range(count):\n",
    "            if list[i] < list[j]:\n",
    "                list[i], list[j] = list[j], list[i]"
   ]
  },
  {
   "cell_type": "code",
   "execution_count": 20,
   "metadata": {},
   "outputs": [
    {
     "name": "stdout",
     "output_type": "stream",
     "text": [
      "[0, 1, 2, 3, 4, 5, 6, 7, 8, 9]\n"
     ]
    }
   ],
   "source": [
    "def bubble_sort(lists):\n",
    "    # 冒泡排序\n",
    "    count = len(lists)\n",
    "    for i in range(0, count):\n",
    "        for j in range(i + 1, count):\n",
    "            if lists[i] > lists[j]:\n",
    "                lists[i], lists[j] = lists[j], lists[i]\n",
    "    return lists\n",
    "\n",
    "print(bubble_sort(a))"
   ]
  },
  {
   "cell_type": "code",
   "execution_count": null,
   "metadata": {},
   "outputs": [],
   "source": []
  }
 ],
 "metadata": {
  "kernelspec": {
   "display_name": "Python 3",
   "language": "python",
   "name": "python3"
  },
  "language_info": {
   "codemirror_mode": {
    "name": "ipython",
    "version": 3
   },
   "file_extension": ".py",
   "mimetype": "text/x-python",
   "name": "python",
   "nbconvert_exporter": "python",
   "pygments_lexer": "ipython3",
   "version": "3.6.4"
  }
 },
 "nbformat": 4,
 "nbformat_minor": 2
}
